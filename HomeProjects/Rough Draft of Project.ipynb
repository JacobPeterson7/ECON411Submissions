{
 "cells": [
  {
   "cell_type": "markdown",
   "id": "aedb4db2",
   "metadata": {},
   "source": [
    "# Introduction\n",
    "My project is exploring the topic of house construction, house sale prices, and the price of commodities in the United States. I will use this project to determine whether it would be beneficial to purchase a house now, build a house now, or wait. I had hoped that this project would demonstrate the recessions over the past fifty years, including the recessions during the terms of Presidents Nixon, Ford, Carter, Reagan, Bush 41, Bush 43, Obama, and most recently the COVID-19 recession during President Trump and Biden's terms, and the effects that those recessions had with regard to the housing market. I have obtained nominal data to build a house from the United States Census Bureau, in a monthly form using their Excel spreadsheet export function. This data can be obtained publicly at https://www.census.gov/construction/cpi/.\n",
    "\n",
    "I will be comparing the price to build and purchase a home to material costs, such as lumber, iron and steel, and glass, which I have obtained from several sources online, including FRED and https://www.macrotrends.net/futures/lumber. These files will all be available on my GitHub page, which is located at www.GitHub.com/JacobPeterson7. \n",
    "\n",
    "Within this project I will be looking at material costs, using the regular materials that it takes to build a home. These will be gotten from various sources, but I will mostly be utilizing FRED to gather this data. \n",
    "\n",
    "Comparing the data of house construction prices to material costs will be a good way to predict the price to build houses in the future, as well as predicting the price of materials in the future. Later on in my project, I will compare house construction prices to T Bills to compare the price of building a home to the rate of inflation, or the rate at which the price of the dollar changes, which at the time of writing this, it is likely to be high from what I have heard in the news and other sources. "
   ]
  },
  {
   "cell_type": "markdown",
   "id": "fc499c85",
   "metadata": {},
   "source": [
    "# Importation of CSVs"
   ]
  },
  {
   "cell_type": "code",
   "execution_count": 1,
   "id": "033bda75",
   "metadata": {},
   "outputs": [],
   "source": [
    "import pandas as pd\n",
    "build_data=pd.read_csv('build_data.csv', index_col = 'Date')\n",
    "lumber_data=pd.read_csv('lumber_prices2.csv',index_col='Date')\n",
    "CaseShillerIndex = pd.read_csv('CaseShillerIndex.csv', index_col = 'DATE')\n",
    "Inflation = pd.read_csv('Inflation.csv', index_col = 'DATE')\n",
    "IronSteelData = pd.read_csv('IronSteelData.csv', index_col = 'DATE')\n",
    "GlassData = pd.read_csv('GlassData.csv', index_col = 'DATE')\n",
    "\n"
   ]
  },
  {
   "cell_type": "markdown",
   "id": "c103846c",
   "metadata": {},
   "source": [
    "# House Purchasing and Building prices"
   ]
  },
  {
   "cell_type": "markdown",
   "id": "75026095",
   "metadata": {},
   "source": [
    "Firstly, we will look at the price of purchasing and building a home. We will be doing this through a variety of methods, and using sources to explain why these are good methods to analyze the price to purchase and build a home."
   ]
  },
  {
   "cell_type": "code",
   "execution_count": 3,
   "id": "f557c2a7",
   "metadata": {},
   "outputs": [
    {
     "name": "stdout",
     "output_type": "stream",
     "text": [
      "587\n"
     ]
    }
   ],
   "source": [
    "x = 2021 - 1973\n",
    "DecMinJan = 12 - 1\n",
    "MonthsInYear = 12\n",
    "\n",
    "Current_Month = (x * MonthsInYear) + DecMinJan\n",
    "\n",
    "print(Current_Month)"
   ]
  },
  {
   "cell_type": "markdown",
   "id": "cbd9fe3e",
   "metadata": {},
   "source": [
    "December 2021 would be month 587 if we had data for it, but unfortunately we do **not** have the data for December of 2021. However, this gives us a good estimate of what the price is to build a house today. We have the data for lumber and house construction prices from January of 1973 to July of 2021. This means there are 582 months of usable data to work with. "
   ]
  },
  {
   "cell_type": "code",
   "execution_count": 4,
   "id": "e16238c2",
   "metadata": {},
   "outputs": [
    {
     "ename": "NameError",
     "evalue": "name 'plt' is not defined",
     "output_type": "error",
     "traceback": [
      "\u001b[1;31m---------------------------------------------------------------------------\u001b[0m",
      "\u001b[1;31mNameError\u001b[0m                                 Traceback (most recent call last)",
      "\u001b[1;32m<ipython-input-4-40962366ac13>\u001b[0m in \u001b[0;36m<module>\u001b[1;34m\u001b[0m\n\u001b[1;32m----> 1\u001b[1;33m \u001b[0mplt\u001b[0m\u001b[1;33m.\u001b[0m\u001b[0mrcParams\u001b[0m\u001b[1;33m.\u001b[0m\u001b[0mupdate\u001b[0m\u001b[1;33m(\u001b[0m\u001b[1;33m{\u001b[0m\u001b[1;34m'font.size'\u001b[0m\u001b[1;33m:\u001b[0m \u001b[1;36m32\u001b[0m\u001b[1;33m}\u001b[0m\u001b[1;33m)\u001b[0m\u001b[1;33m\u001b[0m\u001b[1;33m\u001b[0m\u001b[0m\n\u001b[0m\u001b[0;32m      2\u001b[0m \u001b[0mfig\u001b[0m\u001b[1;33m,\u001b[0m \u001b[0max\u001b[0m \u001b[1;33m=\u001b[0m \u001b[0mplt\u001b[0m\u001b[1;33m.\u001b[0m\u001b[0msubplots\u001b[0m\u001b[1;33m(\u001b[0m\u001b[0mfigsize\u001b[0m \u001b[1;33m=\u001b[0m \u001b[1;33m(\u001b[0m\u001b[1;36m24\u001b[0m\u001b[1;33m,\u001b[0m\u001b[1;36m16\u001b[0m\u001b[1;33m)\u001b[0m\u001b[1;33m)\u001b[0m\u001b[1;33m\u001b[0m\u001b[1;33m\u001b[0m\u001b[0m\n\u001b[0;32m      3\u001b[0m \u001b[0mbuild_data\u001b[0m\u001b[1;33m.\u001b[0m\u001b[0mplot\u001b[0m\u001b[1;33m.\u001b[0m\u001b[0mline\u001b[0m\u001b[1;33m(\u001b[0m\u001b[0max\u001b[0m \u001b[1;33m=\u001b[0m \u001b[0max\u001b[0m\u001b[1;33m,\u001b[0m \u001b[0mlegend\u001b[0m \u001b[1;33m=\u001b[0m \u001b[1;32mTrue\u001b[0m\u001b[1;33m)\u001b[0m\u001b[1;33m\u001b[0m\u001b[1;33m\u001b[0m\u001b[0m\n\u001b[0;32m      4\u001b[0m \u001b[0my_vals\u001b[0m \u001b[1;33m=\u001b[0m \u001b[0max\u001b[0m\u001b[1;33m.\u001b[0m\u001b[0mget_yticks\u001b[0m\u001b[1;33m(\u001b[0m\u001b[1;33m)\u001b[0m\u001b[1;33m\u001b[0m\u001b[1;33m\u001b[0m\u001b[0m\n\u001b[0;32m      5\u001b[0m \u001b[0mplt\u001b[0m\u001b[1;33m.\u001b[0m\u001b[0mxlabel\u001b[0m\u001b[1;33m(\u001b[0m\u001b[1;34m'Month (starting Jan 1973)'\u001b[0m\u001b[1;33m)\u001b[0m\u001b[1;33m\u001b[0m\u001b[1;33m\u001b[0m\u001b[0m\n",
      "\u001b[1;31mNameError\u001b[0m: name 'plt' is not defined"
     ]
    }
   ],
   "source": [
    "plt.rcParams.update({'font.size': 32})\n",
    "fig, ax = plt.subplots(figsize = (24,16))\n",
    "build_data.plot.line(ax = ax, legend = True)\n",
    "y_vals = ax.get_yticks()\n",
    "plt.xlabel('Month (starting Jan 1973)')\n",
    "plt.xticks(rotation = 25)\n",
    "plt.ylabel('Price in Thousands')\n",
    "ax.set_yticklabels([int(y) if y >= 1 else round(y,1) for y in y_vals])    \n",
    "\n",
    "plt.title(\"Price of Building a House by Month\")\n",
    "plt.show()\n",
    "plt.close()"
   ]
  },
  {
   "cell_type": "markdown",
   "id": "1b3f8567",
   "metadata": {},
   "source": [
    "As we can see in the graph above, nominal prices start out relatively low in the beginning of our data in January of 1973. This is expected over time with the inflation that we have seen over the past fifty years. One thing that jumps out at me instantly about this graph is the fact that there is only one time where the price is decreased by a significant amount, and that is the 2006 and 2007 housing crisis, caused by the sale of Mortgage Backed Securities, and loan officers getting greedy and giving out more subprime loans than they should have. If you ever need a good movie to watch on the housing bubble, I'd recommend _The Big Short_ as it goes very in detail with the situation."
   ]
  },
  {
   "cell_type": "code",
   "execution_count": null,
   "id": "a7d53d01",
   "metadata": {},
   "outputs": [],
   "source": [
    "housing_price_change_data = build_data.pct_change(12) * 100"
   ]
  },
  {
   "cell_type": "code",
   "execution_count": null,
   "id": "cd5a7c25",
   "metadata": {
    "scrolled": false
   },
   "outputs": [],
   "source": [
    "plt.rcParams.update({'font.size': 32})\n",
    "fig, ax = plt.subplots(figsize = (24,16))\n",
    "for key in housing_price_change_data:\n",
    "    housing_price_change_data[key].plot.line(marker = \".\", ls=\"\", ax = ax)\n",
    "plt.legend()\n",
    "plt.title(\"Monthly Price Change (housing)\")\n",
    "y_vals = ax.get_yticks()\n",
    "ax.set_yticklabels([str(int(y))+ \"%\" for y in y_vals])    \n",
    "\n",
    "plt.show()\n",
    "plt.close()"
   ]
  },
  {
   "cell_type": "markdown",
   "id": "7c20313d",
   "metadata": {},
   "source": [
    "After talking to Dr. Caton, he recommended a few things. Firstly, he recommended that I look at the Case Shiller Index, which compares the value of a home to the value of the S & P 500. He also recommended that, instead of calculating percent change by month, I should instead calculate it by year, which has been changed in my graphs above."
   ]
  },
  {
   "cell_type": "code",
   "execution_count": null,
   "id": "b62ed730",
   "metadata": {},
   "outputs": [],
   "source": [
    "plt.rcParams.update({'font.size': 32})\n",
    "fig, ax = plt.subplots(figsize = (24,16))\n",
    "CaseShillerIndex.plot.line(ax = ax, legend = False)\n",
    "y_vals = ax.get_yticks()\n",
    "plt.xlabel('Month (starting Jan 1987)')\n",
    "plt.xticks(rotation = 25)\n",
    "plt.ylabel(' ')\n",
    "ax.set_yticklabels([int(y) if y >= 1 else round(y,1) for y in y_vals])    \n",
    "\n",
    "plt.title(\"Price of a house as compared to S & P 500\")\n",
    "plt.show()\n",
    "plt.close()"
   ]
  },
  {
   "cell_type": "markdown",
   "id": "17569f97",
   "metadata": {},
   "source": [
    "We are able to visualize in this graph the percent change over time of the nominal prices for the construction of a home. The visualization tells us that the change in prices varies from month to month, which is expected. However, there are sometimes where the change is close to being zero percent. However, the price to construct a home usually increases in price, and only decreases every once in a while. We can also see on the graph that the price has been increasing steadily recently, increasing approximately 1.5% to 2% every month."
   ]
  },
  {
   "cell_type": "markdown",
   "id": "1266437b",
   "metadata": {},
   "source": [
    "# Commodity Prices"
   ]
  },
  {
   "cell_type": "code",
   "execution_count": null,
   "id": "aa49778b",
   "metadata": {},
   "outputs": [],
   "source": [
    "lumber_data=pd.read_csv('lumber_prices2.csv',index_col='Date')\n",
    "print(lumber_data)"
   ]
  },
  {
   "cell_type": "code",
   "execution_count": null,
   "id": "602191ad",
   "metadata": {},
   "outputs": [],
   "source": [
    "import matplotlib as mpl\n",
    "import matplotlib.pyplot as plt"
   ]
  },
  {
   "cell_type": "code",
   "execution_count": null,
   "id": "676b8211",
   "metadata": {
    "scrolled": false
   },
   "outputs": [],
   "source": [
    "plt.rcParams.update({'font.size': 32})\n",
    "fig, ax = plt.subplots(figsize = (24,16))\n",
    "lumber_data.plot.line(ax = ax, legend = True)\n",
    "y_vals = ax.get_yticks()\n",
    "plt.xlabel('Month (starting Jan 1973)')\n",
    "plt.xticks(rotation = 25)\n",
    "plt.ylabel('Price in Dollars')\n",
    "ax.set_yticklabels([int(y) if y >= 1 else round(y,1) for y in y_vals])  \n",
    "plt.grid(True)\n",
    "\n",
    "plt.title(\"Price of Lumber by month\")\n",
    "plt.show()\n",
    "plt.close()"
   ]
  },
  {
   "cell_type": "markdown",
   "id": "20f33a56",
   "metadata": {},
   "source": [
    "As we can see in this graph above, lumber prices have increased and decreased sporatically throughout the past forty eight years. According to the graph, the prices hovered around 150 dollars per unit to 400 dollars per unit for most of the time that is graphed. However, in about 2018, however, prices rose sharply to 600 dollars per unit of lumber, then came back down. Then, at approximately month 570, the price of lumber skyrocketed to over 1400 dollars per unit of lumber. Right now, they are decreasing sharply after a very high increase at approximately month 570. This means the price will likely stabilize soon."
   ]
  },
  {
   "cell_type": "markdown",
   "id": "bd12adc1",
   "metadata": {},
   "source": [
    "Because we can also see that lumber prices have a **sharp** dropoff at the very end of the line that represents them, meaning the price to build a house will very likey go down simply due to the huge drop in lumber prices."
   ]
  },
  {
   "cell_type": "markdown",
   "id": "91caa95d",
   "metadata": {},
   "source": [
    "Now we will be plotting the change in prices of building a house and lumber by percent per month. This will give us an idea of how the prices of constructing a house and of purchasing lumber have been changing constantly among the past forty eight years. This graph will show us this on a monthly basis."
   ]
  },
  {
   "cell_type": "code",
   "execution_count": null,
   "id": "8bab8ea3",
   "metadata": {},
   "outputs": [],
   "source": [
    "lumber_price_change_data = lumber_data.pct_change(12) * 100 "
   ]
  },
  {
   "cell_type": "code",
   "execution_count": null,
   "id": "37f13ac5",
   "metadata": {
    "scrolled": false
   },
   "outputs": [],
   "source": [
    "plt.rcParams.update({'font.size': 32})\n",
    "fig, ax = plt.subplots(figsize = (24,16))\n",
    "for key in lumber_price_change_data:\n",
    "    lumber_price_change_data[key].plot.line(marker = \".\", ls=\"\", ax = ax)\n",
    "plt.legend()\n",
    "plt.title(\"Monthly Price Change (lumber)\")\n",
    "y_vals = ax.get_yticks()\n",
    "ax.set_yticklabels([str(int(y))+ \"%\" for y in y_vals])    \n",
    "\n",
    "plt.show()\n",
    "plt.close()"
   ]
  },
  {
   "cell_type": "markdown",
   "id": "eeeed9df",
   "metadata": {},
   "source": [
    "With lumber, it's a different story as compared to the price of constructing a home. The price is fluctuates quite a bit, as the maximium positive change is over 40%, and the maximium negative change is over a 30% decrease. There are many months in which the price of lumber does not change very much, but there are also months in which there are changes in price of lumber of over a whopping forty percent increase. There are also months where there's over a thirty percent decrease in the price of lumber. This means that lumber is extremely volatile; the price fluctuates a lot from month to month. As of recently, which is depicted on the right side of the graph above, there have been higher fluctuations in price from month to month, as the highest changes both negative and positive have occurred in the past seven years. These are not present very often in the data leading up to present day, as the highest percent change was just around 30%, and it's clear this was an outlier. The huge price swings that we are seeing now are odd for the prices of lumber."
   ]
  },
  {
   "cell_type": "markdown",
   "id": "5c278d62",
   "metadata": {},
   "source": [
    "Now I will be importing the Case Shiller Index and graphing it."
   ]
  },
  {
   "cell_type": "code",
   "execution_count": null,
   "id": "69c15f4b",
   "metadata": {},
   "outputs": [],
   "source": [
    "CaseShillerIndex = pd.read_csv('CaseShillerIndex.csv', index_col = 'DATE')\n",
    "print(CaseShillerIndex)"
   ]
  },
  {
   "cell_type": "markdown",
   "id": "792b3eae",
   "metadata": {},
   "source": [
    "Unfortunately for us, the Case Shiller Index I got from FRED only goes back to 1987, whereas our lumber and housing data goes back to 1973. While this will still be an accurate representation of housing prices, especially with regards to the price of the S & P 500, we won't be able to go as far back as we'd like."
   ]
  },
  {
   "cell_type": "markdown",
   "id": "528a7cea",
   "metadata": {},
   "source": [
    "Like we did with the original data, we will calculate percent change with the Case Shiller index."
   ]
  },
  {
   "cell_type": "code",
   "execution_count": null,
   "id": "f3608110",
   "metadata": {},
   "outputs": [],
   "source": [
    "CaseShillerIndex_change_data = CaseShillerIndex.pct_change(12) * 100 "
   ]
  },
  {
   "cell_type": "code",
   "execution_count": null,
   "id": "eccd3e89",
   "metadata": {},
   "outputs": [],
   "source": [
    "plt.rcParams.update({'font.size': 32})\n",
    "fig, ax = plt.subplots(figsize = (24,16))\n",
    "for key in CaseShillerIndex_change_data:\n",
    "    CaseShillerIndex_change_data[key].plot.line(marker = \".\", ls=\"\", ax = ax)\n",
    "plt.legend()\n",
    "plt.title(\"Monthly Price Change (housing)\")\n",
    "y_vals = ax.get_yticks()\n",
    "ax.set_yticklabels([str(int(y))+ \"%\" for y in y_vals])    \n",
    "\n",
    "plt.show()\n",
    "plt.close()"
   ]
  },
  {
   "cell_type": "markdown",
   "id": "b5fa25f4",
   "metadata": {},
   "source": [
    "According to an article written by Nikolaos Antonakakisa, Rangan Guptab, and Aviral K. Tiwar, \n",
    "\n",
    "\"Stock prices are considered to be a leading indicator for economic activity of the U.S. economy (Stock and Watson, 2003; Rapach and Weber, 2004), and hence, determining what factors drive this market is of paramount importance. While stock prices are\n",
    "primarily driven by financial variables (Valcarcel, 2012), the importance of macroeconomic variables cannot be ruled out either\n",
    "(Goyal and Welch, 2008; Valcarcel, 2012; Rapach and Zhou, 2013). Inflation is undoubtedly one of the most important\n",
    "macroeconomic variables believed to be related to stock prices, and in turn, also affected by it (Gupta and Inglesi-Lotz, 2012).\"\n",
    "\n",
    "This article can be read by opening \"Inflation Article 2\" in my GitHub.\n",
    "\n",
    "This means that the Case Shiller Index is a good source of economic data when it comes to housing prices compared to the S & P 500, and in fact is considered to be a leading indicator. Because stock prices are the best indicator for economic activity of our economy, the Case Shiller Index should be considered to be very accurate when it comes to being an indicator of housing prices, S & P 500 prices, and economic wellbeing for the American People."
   ]
  },
  {
   "cell_type": "markdown",
   "id": "e6b194d4",
   "metadata": {},
   "source": [
    "I will now also import Inflation into my project. I will graph its rate of change as well. "
   ]
  },
  {
   "cell_type": "code",
   "execution_count": null,
   "id": "f751aa63",
   "metadata": {},
   "outputs": [],
   "source": [
    "Inflation = pd.read_csv('Inflation.csv', index_col = 'DATE')\n",
    "print(Inflation)"
   ]
  },
  {
   "cell_type": "code",
   "execution_count": null,
   "id": "39822681",
   "metadata": {},
   "outputs": [],
   "source": [
    "plt.rcParams.update({'font.size': 32})\n",
    "fig, ax = plt.subplots(figsize = (24,16))\n",
    "Inflation.plot.line(ax = ax, legend = False)\n",
    "y_vals = ax.get_yticks()\n",
    "plt.xlabel('Year')\n",
    "plt.xticks(rotation = 25)\n",
    "plt.ylabel(' ')\n",
    "ax.set_yticklabels([int(y) if y >= 1 else round(y,1) for y in y_vals])    \n",
    "\n",
    "plt.title(\"Inflation\")\n",
    "plt.show()\n",
    "plt.close()"
   ]
  },
  {
   "cell_type": "code",
   "execution_count": null,
   "id": "48bc9c7e",
   "metadata": {},
   "outputs": [],
   "source": [
    "Inflation_change_data = Inflation.pct_change(12) * 100 "
   ]
  },
  {
   "cell_type": "code",
   "execution_count": null,
   "id": "6fc11095",
   "metadata": {},
   "outputs": [],
   "source": [
    "plt.rcParams.update({'font.size': 32})\n",
    "fig, ax = plt.subplots(figsize = (24,16))\n",
    "for key in Inflation_change_data:\n",
    "    Inflation_change_data[key].plot.line(marker = \".\", ls=\"\", ax = ax)\n",
    "plt.legend()\n",
    "plt.title(\"Annual Price Change (inflation)\")\n",
    "y_vals = ax.get_yticks()\n",
    "ax.set_yticklabels([str(int(y))+ \"%\" for y in y_vals])    \n",
    "\n",
    "plt.show()\n",
    "plt.close()"
   ]
  },
  {
   "cell_type": "markdown",
   "id": "5f7f0818",
   "metadata": {},
   "source": [
    "According to an article written by Francesco Bianchi, Leonardo Melosi, and Matthias Rottner, titled \"Hitting the elusive inflation target\" (which can be accessed here: https://www.sciencedirect.com/science/article/pii/S0304393221001148 or as \"Inflation Article 1\" in my GitHub), the inflation target is 2%.\n",
    "\n",
    "\"The discount factor β is set to 0.9993 to obtain an annualized real interest rate of 1.5%, which is broadly in line with the estimates of Laubach and Williams (2003) for this period. The Rotemberg parameter φ is set to 10 0 0 so that the slope of the New Keynesian Phillips curve is 0.01. The calibrated value for the demand elasticity implies a steady-state markup of 10 percent. The parameter governing the degree of external consumption habits is set to 0.5. The inverse Frisch elasticity is set in line with Chetty et al. (2011) . The parameter controlling the disutility of labor χ is set to normalize the steady-state level of employment to unity. We set the inflation target to 2%\""
   ]
  },
  {
   "cell_type": "markdown",
   "id": "5c73c8a9",
   "metadata": {},
   "source": [
    "This makes me quite scared. While the inflation target is 2%, we are well over that in 2021. The last time I saw a news article on inflation, we were over 5.4% nationwide. This is all due to President Biden's wreckless spending, which will come back to hurt the housing market drastically. "
   ]
  },
  {
   "cell_type": "markdown",
   "id": "ba9bd46e",
   "metadata": {},
   "source": [
    "According to Housing Prices, Mortgage Interest Rates and the Rising Share of Capital Income in the United States by Gianni La Cava, published in July of 2016, which can be accessed by opening \"Housing Prices La Cava\" in my GitHub, \n",
    "\n",
    "\"It is also possible to look at the prices and volumes of different types of housing in the United States.8 The national accounts indicate that, over the past 25 years, in nominal terms, the share of aggregate income going to owner-occupiers has risen by 1.9 percentage points and by 0.6 percentage points for landlords. In real terms, the share of aggregate income going to owner occupiers has been unchanged since 1980 and it has actually fallen by 0.2 percentage points for landlords. The different real trends for owner-occupied and tenant-occupied housing suggest that factors such as an increase in the rate of home ownership and in the average quality of owner-occupied housing have played some role in explaining the secular rise of housing in recent decades. These differences are reflected in the national accounts estimates of housing investment – the rate of investment for owner-occupied housing has been at least three times as high as that for tenant  occupied housing over the past quarter of a century.\"\n",
    "\n",
    "After reading this, I understood why we saw the rate of change that we did in my previous graph relating to housing prices and the rate of change. This is because families are putting more money into their homes than ever before, causing prices to go up. Also, coupled with inflation, these factors have caused housing prices to jump to be extremely high. "
   ]
  },
  {
   "cell_type": "markdown",
   "id": "bdd20c26",
   "metadata": {},
   "source": [
    "Now I want to switch gears and instead of looking at things from an inflation and monetary side, I want to look at housing prices as compared to materials again. I have found iron and steel prices on FRED for the past 90 years, and will now import them into my project and graph them. I will also graph the rate of change of steel and iron prices over the past 90 years."
   ]
  },
  {
   "cell_type": "code",
   "execution_count": null,
   "id": "cea104a4",
   "metadata": {},
   "outputs": [],
   "source": [
    "IronSteelData = pd.read_csv('IronSteelData.csv', index_col = 'DATE')\n",
    "print(IronSteelData)"
   ]
  },
  {
   "cell_type": "code",
   "execution_count": null,
   "id": "7b57e473",
   "metadata": {},
   "outputs": [],
   "source": [
    "plt.rcParams.update({'font.size': 32})\n",
    "fig, ax = plt.subplots(figsize = (24,16))\n",
    "IronSteelData.plot.line(ax = ax, legend = False)\n",
    "y_vals = ax.get_yticks()\n",
    "plt.xlabel('Year')\n",
    "plt.xticks(rotation = 25)\n",
    "plt.ylabel(' ')\n",
    "ax.set_yticklabels([int(y) if y >= 1 else round(y,1) for y in y_vals])    \n",
    "\n",
    "plt.title(\"Iron and Steel Data\")\n",
    "plt.show()\n",
    "plt.close()"
   ]
  },
  {
   "cell_type": "code",
   "execution_count": null,
   "id": "c88a6c10",
   "metadata": {},
   "outputs": [],
   "source": [
    "IronSteel_change_data = IronSteelData.pct_change(12) * 100 "
   ]
  },
  {
   "cell_type": "code",
   "execution_count": null,
   "id": "87e7f699",
   "metadata": {},
   "outputs": [],
   "source": [
    "plt.rcParams.update({'font.size': 32})\n",
    "fig, ax = plt.subplots(figsize = (24,16))\n",
    "for key in IronSteel_change_data:\n",
    "    IronSteel_change_data[key].plot.line(marker = \".\", ls=\"\", ax = ax)\n",
    "plt.legend()\n",
    "plt.title(\"Annual Price Change (Iron and Steel)\")\n",
    "y_vals = ax.get_yticks()\n",
    "ax.set_yticklabels([str(int(y))+ \"%\" for y in y_vals])    \n",
    "\n",
    "plt.show()\n",
    "plt.close()"
   ]
  },
  {
   "cell_type": "markdown",
   "id": "ab960642",
   "metadata": {},
   "source": [
    "We can see that, as of lately, steel and iron prices seem to only be going up, with as much as a 100% increase in price. Now we will look at other factors of building a house. One of these will be glass prices."
   ]
  },
  {
   "cell_type": "markdown",
   "id": "486ca82a",
   "metadata": {},
   "source": [
    "I found an article that explains this change. This article was \"Detecting positive feedback in multivariate time series: The case of metal prices and US inflation\" by Catherine Kyrtsoua and Walter C. Labys. You can read it by opening \"Metal Prices and Inflation Kyrtsou\" in my GitHub. A quote that stuck out to me in this article was this:\n",
    "\n",
    "\"The complex nature of commodity prices has been studied in the recent work of Kyrtsou et al.[6].Inadifferent framework, Westerhoff and Reitz[7]and He and Westerhoff[8]use heterogeneous agent-basedmodels to characterise commodity price fluctuations. In this paper, we are interested in detecting inherentcausality and feedbacks in the linkages between inflation and primary commodity prices with the use of thebivariate Mackey–Glass model, recently presented in Kyrtsou and Labys[9]. Quantifying and then qualifyingthe presence of feedback can help both practitioners and researchers to understand the mechanism of shocktransmission from the financial sector to macroeconomy and vice versa.\"\n",
    "\n",
    "This was very interesting to me because it links inflation and commodity prices. While this makes intutitive sense, it really helps pull my entire project together."
   ]
  },
  {
   "cell_type": "code",
   "execution_count": null,
   "id": "e38b9888",
   "metadata": {},
   "outputs": [],
   "source": [
    "GlassData = pd.read_csv('GlassData.csv', index_col = 'DATE')\n",
    "print(GlassData)"
   ]
  },
  {
   "cell_type": "code",
   "execution_count": null,
   "id": "0cd11115",
   "metadata": {},
   "outputs": [],
   "source": [
    "plt.rcParams.update({'font.size': 32})\n",
    "fig, ax = plt.subplots(figsize = (24,16))\n",
    "GlassData.plot.line(ax = ax, legend = False)\n",
    "y_vals = ax.get_yticks()\n",
    "plt.xlabel('Year')\n",
    "plt.xticks(rotation = 25)\n",
    "plt.ylabel(' ')\n",
    "ax.set_yticklabels([int(y) if y >= 1 else round(y,1) for y in y_vals])    \n",
    "\n",
    "plt.title(\"Glass Prices\")\n",
    "plt.show()\n",
    "plt.close()"
   ]
  },
  {
   "cell_type": "code",
   "execution_count": null,
   "id": "bbe155f1",
   "metadata": {},
   "outputs": [],
   "source": [
    "Glass_change_data = GlassData.pct_change(12) * 100 \n",
    "\n",
    "plt.rcParams.update({'font.size': 32})\n",
    "fig, ax = plt.subplots(figsize = (24,16))\n",
    "for key in Glass_change_data:\n",
    "    Glass_change_data[key].plot.line(marker = \".\", ls=\"\", ax = ax)\n",
    "plt.legend()\n",
    "plt.title(\"Annual Price Change (Glass)\")\n",
    "y_vals = ax.get_yticks()\n",
    "ax.set_yticklabels([str(int(y))+ \"%\" for y in y_vals])    \n",
    "\n",
    "plt.show()\n",
    "plt.close()"
   ]
  },
  {
   "cell_type": "markdown",
   "id": "8ca62fc5",
   "metadata": {},
   "source": [
    "We can see that the distribution for glass prices is nowhere near our distribution for inflation, iron and steel prices, or even housing prices. It's very consistently in between a 10% and -10% change per year."
   ]
  },
  {
   "cell_type": "code",
   "execution_count": null,
   "id": "495aac65",
   "metadata": {},
   "outputs": [],
   "source": []
  }
 ],
 "metadata": {
  "kernelspec": {
   "display_name": "Python 3",
   "language": "python",
   "name": "python3"
  },
  "language_info": {
   "codemirror_mode": {
    "name": "ipython",
    "version": 3
   },
   "file_extension": ".py",
   "mimetype": "text/x-python",
   "name": "python",
   "nbconvert_exporter": "python",
   "pygments_lexer": "ipython3",
   "version": "3.8.8"
  }
 },
 "nbformat": 4,
 "nbformat_minor": 5
}
