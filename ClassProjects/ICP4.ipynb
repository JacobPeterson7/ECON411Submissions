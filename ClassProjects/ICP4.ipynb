{
 "cells": [
  {
   "cell_type": "code",
   "execution_count": 1,
   "id": "84845827",
   "metadata": {},
   "outputs": [],
   "source": [
    "def total(list_obj):\n",
    "    total = 0\n",
    "    n = len(list_obj)\n",
    "    for i in range(n):\n",
    "        total += list_obj[i]\n",
    "        print(i, total)\n",
    "    return total"
   ]
  },
  {
   "cell_type": "code",
   "execution_count": 2,
   "id": "8a0f1a56",
   "metadata": {},
   "outputs": [
    {
     "name": "stdout",
     "output_type": "stream",
     "text": [
      "0 1\n",
      "1 3\n",
      "2 6\n",
      "3 11\n",
      "4 19\n",
      "5 21\n",
      "6 24\n",
      "7 31\n"
     ]
    },
    {
     "data": {
      "text/plain": [
       "31"
      ]
     },
     "execution_count": 2,
     "metadata": {},
     "output_type": "execute_result"
    }
   ],
   "source": [
    "mylist = [1,2,3,5,8,2,3,7]\n",
    "total(mylist)"
   ]
  },
  {
   "cell_type": "code",
   "execution_count": 7,
   "id": "575255c1",
   "metadata": {},
   "outputs": [
    {
     "data": {
      "text/plain": [
       "8"
      ]
     },
     "execution_count": 7,
     "metadata": {},
     "output_type": "execute_result"
    }
   ],
   "source": [
    "len(mylist)"
   ]
  },
  {
   "cell_type": "code",
   "execution_count": 8,
   "id": "cbf1e360",
   "metadata": {},
   "outputs": [],
   "source": [
    "def mean(list_obj):\n",
    "    n = len(list_obj)\n",
    "    mean_ = total(list_obj) / n\n",
    "    return mean_\n",
    "\n",
    "def median(list_obj):\n",
    "    n = len(list_obj)\n",
    "    list_obj = sorted(list_obj)\n",
    "    if n % 2 != 0:\n",
    "        middle_index = int((n - 1) / 2)\n",
    "        median_ = list_obj[middle_index]\n",
    "    else:\n",
    "        upper_middle_index = int(n / 2)\n",
    "        lower_middle_index = upper_middle_index - 1\n",
    "        median_ = mean(list_obj[lower_middle_index : upper_middle_index + 1])\n",
    "        \n",
    "    return median_\n",
    "\n",
    "def mode(list_obj):\n",
    "    max_count = 0\n",
    "    counter_dict = {}\n",
    "    for value in list_obj:\n",
    "        counter_dict[value] = 0\n",
    "    for value in list_obj:\n",
    "        counter_dict[value] += 1\n",
    "    count_list = list(counter_dict.values())\n",
    "    max_count = max(count_list)\n",
    "    mode_ = [key for key in counter_dict if counter_dict[key] == max_count]\n",
    "    \n",
    "    return mode_\n",
    "\n",
    "def variance(list_obj, sample = False):\n",
    "    list_mean = mean(list_obj)\n",
    "    n = len(list_obj)\n",
    "    sum_sq_diff = 0\n",
    "    for val in list_obj:\n",
    "        sum_sq_diff += (val - list_mean) ** 2\n",
    "    if sample == False:\n",
    "        variance_ = sum_sq_diff / n\n",
    "    else:\n",
    "        variance_ = sum_sq_diff / (n - 1)\n",
    "    \n",
    "    return variance_\n",
    "\n",
    "def SD(list_obj, sample = False):\n",
    "    SD_ = variance(list_obj, sample) ** (1/2)\n",
    "    \n",
    "    return SD_\n",
    "\n",
    "def covariance(list_obj1, list_obj2, sample = False):\n",
    "    mean1 = mean(list_obj1)\n",
    "    mean2 = mean(list_obj2)\n",
    "    cov = 0\n",
    "    n1 = len(list_obj1)\n",
    "    n2 = len(list_obj2)\n",
    "    if n1 == n2:\n",
    "        n = n1\n",
    "        for i in range(n1):\n",
    "            cov += (list_obj1[i] - mean1) * (list_obj2[i] - mean2)\n",
    "        if sample == False:\n",
    "            cov = cov / n\n",
    "        else:\n",
    "            cov = cov / (n - 1)\n",
    "        return cov\n",
    "    else:\n",
    "        print(\"List lengths are not equal\")\n",
    "        print(\"List1:\", n1)\n",
    "        print(\"List2:\", n2)\n",
    "    \n",
    "\n",
    "def correlation(list_obj1, list_obj2):\n",
    "    cov = covariance(list_obj1, list_obj2)\n",
    "    SD1 = SD(list_obj1)\n",
    "    SD2 = SD(list_obj2)\n",
    "    corr = cov / (SD1 * SD2)\n",
    "    return corr\n",
    "\n",
    "def skewness(list_obj, sample = False):\n",
    "    mean_ = mean(list_obj)\n",
    "    SD_ = SD(list_obj, sample)\n",
    "    skew = 0\n",
    "    n = len(list_obj)\n",
    "    for val in list_obj:\n",
    "        skew += (val - mean_) ** 3\n",
    "    skew = skew / (n * SD_ **3) if not sample else n * skew / ((n - 1)*(n - 2) * SD_ ** 3)\n",
    "        \n",
    "    return skew\n",
    "\n",
    "def kurtosis(list_obj, sample = False):\n",
    "    mean_ = mean(list_obj)\n",
    "    kurt = 0\n",
    "    SD_ = SD(list_obj, sample)\n",
    "    n = len(list_obj)\n",
    "    for val in list_obj:\n",
    "        kurt += (val - mean_) ** 4\n",
    "    kurt = kurt / (n * SD_ ** 4) if sample == False else  n * (n + 1) * kurt / \\\n",
    "    ( (n - 1) * (n - 2) *(n - 3) * (SD_ ** 4)) - (3 *(n - 1) ** 2) / ((n - 2) * (n - 3))\n",
    "    \n",
    "    return kurt"
   ]
  },
  {
   "cell_type": "code",
   "execution_count": null,
   "id": "e940e1c1",
   "metadata": {},
   "outputs": [],
   "source": []
  }
 ],
 "metadata": {
  "kernelspec": {
   "display_name": "Python 3",
   "language": "python",
   "name": "python3"
  },
  "language_info": {
   "codemirror_mode": {
    "name": "ipython",
    "version": 3
   },
   "file_extension": ".py",
   "mimetype": "text/x-python",
   "name": "python",
   "nbconvert_exporter": "python",
   "pygments_lexer": "ipython3",
   "version": "3.8.8"
  }
 },
 "nbformat": 4,
 "nbformat_minor": 5
}
