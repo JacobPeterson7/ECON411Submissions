{
 "cells": [
  {
   "cell_type": "code",
   "execution_count": 1,
   "id": "e7bbd495",
   "metadata": {
    "scrolled": true
   },
   "outputs": [
    {
     "name": "stdout",
     "output_type": "stream",
     "text": [
      "[ 2  4  6  8 10]\n"
     ]
    }
   ],
   "source": [
    "import numpy as np\n",
    "\n",
    "array = np.array([2, 4, 6, 8, 10])\n",
    "print(array)"
   ]
  },
  {
   "cell_type": "code",
   "execution_count": 2,
   "id": "550925f2",
   "metadata": {},
   "outputs": [
    {
     "name": "stdout",
     "output_type": "stream",
     "text": [
      "int32\n"
     ]
    }
   ],
   "source": [
    "print(array.dtype)"
   ]
  },
  {
   "cell_type": "code",
   "execution_count": 3,
   "id": "6a47dc5d",
   "metadata": {},
   "outputs": [
    {
     "name": "stdout",
     "output_type": "stream",
     "text": [
      "[ 2.  4.  6.  8. 10.]\n",
      "float64\n"
     ]
    }
   ],
   "source": [
    "import numpy as np\n",
    "\n",
    "array = np.array([2, 4, 6, 8., 10])\n",
    "print(array)\n",
    "print(array.dtype)"
   ]
  },
  {
   "cell_type": "code",
   "execution_count": 4,
   "id": "c19e0985",
   "metadata": {},
   "outputs": [
    {
     "name": "stdout",
     "output_type": "stream",
     "text": [
      "[ 1  2  3  4  5  6  7  8  9 10 11 12 13 14 15 16 17 18 19 20 21 22 23 24\n",
      " 25 26 27 28 29 30 31 32 33 34 35 36 37 38 39 40 41 42 43 44 45 46 47 48\n",
      " 49 50]\n"
     ]
    }
   ],
   "source": [
    "import numpy as np\n",
    "\n",
    "range_array = np.arange(1,51)\n",
    "print(range_array)"
   ]
  },
  {
   "cell_type": "code",
   "execution_count": 5,
   "id": "25c8f320",
   "metadata": {},
   "outputs": [
    {
     "name": "stdout",
     "output_type": "stream",
     "text": [
      "[ 1  4  7 10 13 16 19 22 25 28 31 34 37 40 43 46 49]\n"
     ]
    }
   ],
   "source": [
    "range_array2 = np.arange(1,51,3)\n",
    "print(range_array2)"
   ]
  },
  {
   "cell_type": "code",
   "execution_count": 6,
   "id": "b5bfa1a6",
   "metadata": {},
   "outputs": [
    {
     "name": "stdout",
     "output_type": "stream",
     "text": [
      "[[2, 4, 6, 8], [3, 6, 9, 12]]\n"
     ]
    }
   ],
   "source": [
    "import numpy as np\n",
    "two_lists = [[2,4,6,8],[3,6,9,12]]\n",
    "print(two_lists)"
   ]
  },
  {
   "cell_type": "code",
   "execution_count": 7,
   "id": "9b5a6ef4",
   "metadata": {},
   "outputs": [
    {
     "name": "stdout",
     "output_type": "stream",
     "text": [
      "[2, 4, 6, 8]\n",
      "[3, 6, 9, 12]\n"
     ]
    }
   ],
   "source": [
    "for i in range(len(two_lists)):\n",
    "    print(two_lists[i])"
   ]
  },
  {
   "cell_type": "code",
   "execution_count": 8,
   "id": "a82d8276",
   "metadata": {},
   "outputs": [
    {
     "name": "stdout",
     "output_type": "stream",
     "text": [
      "[2, 4, 6, 8]\n",
      "2\n",
      "4\n",
      "6\n",
      "8\n",
      "[3, 6, 9, 12]\n",
      "3\n",
      "6\n",
      "9\n",
      "12\n"
     ]
    }
   ],
   "source": [
    "for i in range(len(two_lists)):\n",
    "    print(two_lists[i])\n",
    "    for j in range(len(two_lists[i])):\n",
    "        print(two_lists[i][j])"
   ]
  },
  {
   "cell_type": "code",
   "execution_count": 9,
   "id": "155cc1c9",
   "metadata": {},
   "outputs": [
    {
     "name": "stdout",
     "output_type": "stream",
     "text": [
      "[[ 2  4  6  8]\n",
      " [ 3  6  9 12]]\n"
     ]
    }
   ],
   "source": [
    "two_lists_array = np.array(two_lists)\n",
    "print(two_lists_array)"
   ]
  },
  {
   "cell_type": "code",
   "execution_count": 10,
   "id": "a9d553e4",
   "metadata": {},
   "outputs": [
    {
     "name": "stdout",
     "output_type": "stream",
     "text": [
      "[2 4 6 8]\n",
      "2\n",
      "4\n",
      "6\n",
      "8\n",
      "[ 3  6  9 12]\n",
      "3\n",
      "6\n",
      "9\n",
      "12\n"
     ]
    }
   ],
   "source": [
    "for i in range(len(two_lists_array)):\n",
    "    print(two_lists_array[i])\n",
    "    for j in range(len(two_lists_array[i])):\n",
    "        print(two_lists_array[i][j])"
   ]
  },
  {
   "cell_type": "code",
   "execution_count": 11,
   "id": "8ad9d27d",
   "metadata": {},
   "outputs": [
    {
     "name": "stdout",
     "output_type": "stream",
     "text": [
      "Original Array:\n",
      "[[0. 0. 0. 0.]\n",
      " [0. 0. 0. 0.]\n",
      " [0. 0. 0. 0.]\n",
      " [0. 0. 0. 0.]\n",
      " [0. 0. 0. 0.]]\n",
      "Updated Array:\n",
      "[[0. 0. 0. 0.]\n",
      " [7. 8. 9. 0.]\n",
      " [4. 5. 6. 0.]\n",
      " [1. 2. 3. 0.]\n",
      " [0. 0. 0. 0.]]\n"
     ]
    }
   ],
   "source": [
    "import numpy as np\n",
    "\n",
    "array = np.zeros((5,4))\n",
    "print(\"Original Array:\", array, sep = \"\\n\")\n",
    "\n",
    "array[1][0] = 7\n",
    "array[1][1] = 8\n",
    "array[1][2] = 9\n",
    "\n",
    "array[2][0] = 4\n",
    "array[2][1] = 5\n",
    "array[2][2] = 6\n",
    "\n",
    "array[3][0] = 1\n",
    "array[3][1] = 2\n",
    "array[3][2] = 3\n",
    "\n",
    "print(\"Updated Array:\", array, sep = \"\\n\")"
   ]
  },
  {
   "cell_type": "code",
   "execution_count": 12,
   "id": "de7a7b75",
   "metadata": {},
   "outputs": [
    {
     "data": {
      "text/plain": [
       "array([[0, 0, 0],\n",
       "       [0, 0, 0],\n",
       "       [0, 0, 0]])"
      ]
     },
     "execution_count": 12,
     "metadata": {},
     "output_type": "execute_result"
    }
   ],
   "source": [
    "zero_list = [[0,0,0],[0,0,0],[0,0,0]]\n",
    "np.array(zero_list)"
   ]
  },
  {
   "cell_type": "code",
   "execution_count": 13,
   "id": "58e79ac6",
   "metadata": {},
   "outputs": [
    {
     "data": {
      "text/plain": [
       "array([['NumLock', '/', '*', '-'],\n",
       "       ['7', '8', '9', '+'],\n",
       "       ['4', '5', '6', '='],\n",
       "       ['1', '2', '3', 'Enter'],\n",
       "       ['0', ',', '.', 'Enter']], dtype='<U11')"
      ]
     },
     "execution_count": 13,
     "metadata": {},
     "output_type": "execute_result"
    }
   ],
   "source": [
    "Numpad = [[\"NumLock\",\"/\",\"*\",\"-\"],[7,8,9,\"+\"],[4,5,6,\"=\"],[1,2,3,\"Enter\"],[0,\",\",\".\",\"Enter\"]]\n",
    "np.array(Numpad)"
   ]
  },
  {
   "cell_type": "code",
   "execution_count": 14,
   "id": "5d548777",
   "metadata": {},
   "outputs": [
    {
     "data": {
      "text/plain": [
       "array([['NumLock', '/', '*', '-'],\n",
       "       ['7', '9', '9', '+'],\n",
       "       ['4', '5', '6', '='],\n",
       "       ['1', '2', '3', 'Enter'],\n",
       "       ['0', ',', '.', 'Enter']], dtype='<U11')"
      ]
     },
     "execution_count": 14,
     "metadata": {},
     "output_type": "execute_result"
    }
   ],
   "source": [
    "Numpad[1][1] = \"9\"\n",
    "np.array(Numpad)"
   ]
  },
  {
   "cell_type": "code",
   "execution_count": 15,
   "id": "44c47a21",
   "metadata": {},
   "outputs": [
    {
     "data": {
      "text/plain": [
       "array([[0.        , 0.69314718, 1.09861229],\n",
       "       [1.38629436, 1.60943791, 1.79175947],\n",
       "       [1.94591015, 2.07944154, 2.19722458]])"
      ]
     },
     "execution_count": 15,
     "metadata": {},
     "output_type": "execute_result"
    }
   ],
   "source": [
    "##I originally thought he said \"Locking Data\" and was super confused\n",
    "\n",
    "NormalList = [[1,2,3],[4,5,6],[7,8,9]]\n",
    "\n",
    "np.log(NormalList)"
   ]
  },
  {
   "cell_type": "code",
   "execution_count": 16,
   "id": "8da14925",
   "metadata": {},
   "outputs": [
    {
     "data": {
      "text/plain": [
       "array([[0.        , 0.30103   , 0.47712125],\n",
       "       [0.60205999, 0.69897   , 0.77815125],\n",
       "       [0.84509804, 0.90308999, 0.95424251]])"
      ]
     },
     "execution_count": 16,
     "metadata": {},
     "output_type": "execute_result"
    }
   ],
   "source": [
    "np.log10(NormalList)"
   ]
  },
  {
   "cell_type": "code",
   "execution_count": 17,
   "id": "b006a095",
   "metadata": {},
   "outputs": [
    {
     "data": {
      "text/plain": [
       "array([[0.        , 1.        , 1.5849625 ],\n",
       "       [2.        , 2.32192809, 2.5849625 ],\n",
       "       [2.80735492, 3.        , 3.169925  ]])"
      ]
     },
     "execution_count": 17,
     "metadata": {},
     "output_type": "execute_result"
    }
   ],
   "source": [
    "np.log2(NormalList)"
   ]
  },
  {
   "cell_type": "code",
   "execution_count": 18,
   "id": "cfa5f707",
   "metadata": {},
   "outputs": [
    {
     "data": {
      "text/plain": [
       "array([[1, 2, 3],\n",
       "       [4, 5, 6],\n",
       "       [7, 8, 9]])"
      ]
     },
     "execution_count": 18,
     "metadata": {},
     "output_type": "execute_result"
    }
   ],
   "source": [
    "np.array(NormalList)"
   ]
  },
  {
   "cell_type": "code",
   "execution_count": 19,
   "id": "8bec9ed1",
   "metadata": {},
   "outputs": [
    {
     "name": "stdout",
     "output_type": "stream",
     "text": [
      "1000 3.0\n",
      "990 2.99563519459755\n",
      "980 2.9912260756924947\n",
      "970 2.9867717342662448\n",
      "960 2.9822712330395684\n",
      "950 2.9777236052888476\n",
      "940 2.9731278535996988\n",
      "930 2.9684829485539352\n",
      "920 2.963787827345555\n",
      "910 2.9590413923210934\n",
      "900 2.9542425094393248\n",
      "890 2.949390006644913\n",
      "880 2.9444826721501687\n",
      "870 2.9395192526186187\n",
      "860 2.934498451243568\n",
      "850 2.929418925714293\n",
      "840 2.9242792860618816\n",
      "830 2.9190780923760737\n",
      "820 2.9138138523837167\n",
      "810 2.90848501887865\n",
      "800 2.9030899869919438\n",
      "790 2.8976270912904414\n",
      "780 2.8920946026904804\n",
      "770 2.886490725172482\n",
      "760 2.8808135922807914\n",
      "750 2.8750612633917\n",
      "740 2.8692317197309762\n",
      "730 2.863322860120456\n",
      "720 2.8573324964312685\n",
      "710 2.8512583487190755\n",
      "700 2.845098040014257\n",
      "690 2.838849090737255\n",
      "680 2.832508912706236\n",
      "670 2.8260748027008264\n",
      "660 2.8195439355418688\n",
      "650 2.8129133566428557\n",
      "640 2.806179973983887\n",
      "630 2.7993405494535817\n",
      "620 2.792391689498254\n",
      "610 2.785329835010767\n",
      "600 2.7781512503836434\n",
      "590 2.7708520116421442\n",
      "580 2.7634279935629373\n",
      "570 2.7558748556724915\n",
      "560 2.7481880270062002\n",
      "550 2.7403626894942437\n",
      "540 2.7323937598229686\n",
      "530 2.724275869600789\n",
      "520 2.716003343634799\n",
      "510 2.7075701760979363\n",
      "500 2.6989700043360187\n",
      "490 2.690196080028514\n",
      "480 2.681241237375587\n",
      "470 2.6720978579357175\n",
      "460 2.662757831681574\n",
      "450 2.6532125137753435\n",
      "440 2.6434526764861874\n",
      "430 2.6334684555795866\n",
      "420 2.6232492903979003\n",
      "410 2.6127838567197355\n",
      "400 2.6020599913279625\n",
      "390 2.591064607026499\n",
      "380 2.57978359661681\n",
      "370 2.568201724066995\n",
      "360 2.5563025007672873\n",
      "350 2.5440680443502757\n",
      "340 2.531478917042255\n",
      "330 2.5185139398778875\n",
      "320 2.505149978319906\n",
      "310 2.4913616938342726\n",
      "300 2.4771212547196626\n",
      "290 2.462397997898956\n",
      "280 2.4471580313422194\n",
      "270 2.4313637641589874\n",
      "260 2.4149733479708178\n",
      "250 2.3979400086720375\n",
      "240 2.380211241711606\n",
      "230 2.361727836017593\n",
      "220 2.342422680822206\n",
      "210 2.322219294733919\n",
      "200 2.3010299956639813\n",
      "190 2.278753600952829\n",
      "180 2.255272505103306\n",
      "170 2.230448921378274\n",
      "160 2.2041199826559246\n",
      "150 2.1760912590556813\n",
      "140 2.146128035678238\n",
      "130 2.113943352306837\n",
      "120 2.0791812460476247\n",
      "110 2.041392685158225\n",
      "100 2.0\n",
      "90 1.954242509439325\n",
      "80 1.9030899869919435\n",
      "70 1.845098040014257\n",
      "60 1.7781512503836436\n",
      "50 1.6989700043360187\n",
      "40 1.6020599913279623\n",
      "30 1.4771212547196624\n",
      "20 1.3010299956639813\n"
     ]
    }
   ],
   "source": [
    "for i in range(1000,10,-10):\n",
    "    print(i, np.log10(i))"
   ]
  },
  {
   "cell_type": "code",
   "execution_count": null,
   "id": "d0204b0d",
   "metadata": {},
   "outputs": [],
   "source": []
  }
 ],
 "metadata": {
  "kernelspec": {
   "display_name": "Python 3",
   "language": "python",
   "name": "python3"
  },
  "language_info": {
   "codemirror_mode": {
    "name": "ipython",
    "version": 3
   },
   "file_extension": ".py",
   "mimetype": "text/x-python",
   "name": "python",
   "nbconvert_exporter": "python",
   "pygments_lexer": "ipython3",
   "version": "3.8.8"
  }
 },
 "nbformat": 4,
 "nbformat_minor": 5
}
